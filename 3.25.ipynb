{
 "cells": [
  {
   "cell_type": "code",
   "execution_count": 2,
   "metadata": {},
   "outputs": [],
   "source": [
    "import matplotlib.pyplot as plt\n",
    "import numpy as np\n",
    "from matplotlib.animation import FuncAnimation\n",
    "import imageio\n",
    "from matplotlib import gridspec"
   ]
  },
  {
   "cell_type": "code",
   "execution_count": null,
   "metadata": {},
   "outputs": [],
   "source": [
    "x = np.arange(1, 501, 1)\n",
    "y = np.arange(1, 501, 1)\n",
    "xx, yy = np.meshgrid(x, y)\n",
    "rad = 4.0 * np.arctan(1.0) / 180.0\n",
    "plt.style.use('default')\n",
    "plt.rcParams['font.family'] = 'Times New Roman'\n",
    "plt.rcParams['font.weight'] = 'bold'\n",
    "plt.rcParams['font.size']= 18\n",
    "for i in range(15):\n",
    "    sita = xx + yy - 20*i\n",
    "    yita = np.cos(sita*rad)\n",
    "    u = 2*np.cos(sita*rad) - np.sin(sita*rad)\n",
    "    v = 2*np.cos(sita*rad) + np.sin(sita*rad)\n",
    "    fig = plt.figure(figsize=(20, 10))\n",
    "    gs = gridspec.GridSpec(1, 2)\n",
    "    gs.update(wspace=0.26, hspace=-0.4)\n",
    "    ax = fig.add_subplot(gs[0, 0], projection=\"3d\")\n",
    "    ax.plot_surface(xx, yy, yita, cstride=1, cmap='autumn_r')\n",
    "    ax.set_title('Question2', fontsize=30, weight='bold')\n",
    "    ax.set_xlabel('X', fontsize=25, weight='bold')\n",
    "    ax.set_ylabel('Y', fontsize=25, weight='bold')\n",
    "    ax2 = fig.add_subplot(gs[0, 1])\n",
    "    ax2.quiver(xx[::20, ::20], yy[::20, ::20], u[::20, ::20], v[::20, ::20])\n",
    "    ax2.set_xlabel('U', fontsize=25, weight='bold')\n",
    "    ax2.set_ylabel('V', fontsize=25, weight='bold')\n",
    "    plt.savefig(f'F:\\\\Chenhongwei\\\\fluidhomework\\\\picture_tem\\\\{i}_question2.png', bbox_inches='tight')\n",
    "\n",
    "image_list = []\n",
    "for i in range(15):\n",
    "    image_list.append(f'F:\\\\Chenhongwei\\\\fluidhomework\\\\picture_tem\\\\{i}_question2.png')\n",
    "gif_name = 'F:\\\\Chenhongwei\\\\fluidhomework\\\\picture\\\\question2.gif'\n",
    "frames = []\n",
    "for image_name in image_list:\n",
    "    frames.append(imageio.imread(image_name))\n",
    "    imageio.mimsave(gif_name, frames, 'GIF', duration=1.5)"
   ]
  },
  {
   "cell_type": "code",
   "execution_count": null,
   "metadata": {},
   "outputs": [],
   "source": [
    "x = np.arange(1, 501, 1)\n",
    "y = np.arange(1, 501, 1)\n",
    "xx, yy = np.meshgrid(x, y)\n",
    "rad = 4.0 * np.arctan(1.0) / 180.0\n",
    "plt.style.use('default')\n",
    "plt.rcParams['font.family'] = 'Times New Roman'\n",
    "plt.rcParams['font.weight'] = 'bold'\n",
    "plt.rcParams['font.size']= 18\n",
    "for i in range(15):\n",
    "    sita = xx - 20*i\n",
    "    yita = np.cos(yy*rad)*np.cos(sita*rad)\n",
    "    u = np.cos(yy*rad)*np.cos(sita*rad)\n",
    "    v = -np.sin(sita*rad)*np.sin(sita*rad)\n",
    "    fig = plt.figure(figsize=(20, 10))\n",
    "    gs = gridspec.GridSpec(1, 2)\n",
    "    gs.update(wspace=0.26, hspace=-0.4)\n",
    "    ax = fig.add_subplot(gs[0, 0], projection=\"3d\")\n",
    "    ax.plot_surface(xx, yy, yita, cstride=1, cmap='autumn_r')\n",
    "    ax.set_title('Question3', fontsize=30, weight='bold')\n",
    "    ax.set_xlabel('X', fontsize=25, weight='bold')\n",
    "    ax.set_ylabel('Y', fontsize=25, weight='bold')\n",
    "    ax2 = fig.add_subplot(gs[0, 1])\n",
    "    ax2.quiver(xx[::20, ::20], yy[::20, ::20], u[::20, ::20], v[::20, ::20])\n",
    "    ax2.set_xlabel('U', fontsize=25, weight='bold')\n",
    "    ax2.set_ylabel('V', fontsize=25, weight='bold')\n",
    "    plt.savefig(f'F:\\\\Chenhongwei\\\\fluidhomework\\\\picture_tem\\\\{i}_question3.png', bbox_inches='tight')\n",
    "\n",
    "image_list = []\n",
    "for i in range(15):\n",
    "    image_list.append(f'F:\\\\Chenhongwei\\\\fluidhomework\\\\picture_tem\\\\{i}_question3.png')\n",
    "gif_name = 'F:\\\\Chenhongwei\\\\fluidhomework\\\\picture\\\\question3.gif'\n",
    "frames = []\n",
    "for image_name in image_list:\n",
    "    frames.append(imageio.imread(image_name))\n",
    "    imageio.mimsave(gif_name, frames, 'GIF', duration=1.5)"
   ]
  }
 ],
 "metadata": {
  "kernelspec": {
   "display_name": "ES",
   "language": "python",
   "name": "python3"
  },
  "language_info": {
   "codemirror_mode": {
    "name": "ipython",
    "version": 3
   },
   "file_extension": ".py",
   "mimetype": "text/x-python",
   "name": "python",
   "nbconvert_exporter": "python",
   "pygments_lexer": "ipython3",
   "version": "3.9.7"
  }
 },
 "nbformat": 4,
 "nbformat_minor": 2
}
